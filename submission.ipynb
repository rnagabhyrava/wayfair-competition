{
 "cells": [
  {
   "cell_type": "markdown",
   "metadata": {},
   "source": [
    "## Predictions on holdout set"
   ]
  },
  {
   "cell_type": "code",
   "execution_count": 30,
   "metadata": {},
   "outputs": [],
   "source": [
    "import numpy as np\n",
    "import pandas as pd\n",
    "import pickle\n",
    "from sklearn.preprocessing import LabelEncoder\n",
    "from lightgbm import LGBMClassifier\n",
    "from xgboost import XGBClassifier"
   ]
  },
  {
   "cell_type": "code",
   "execution_count": 31,
   "metadata": {},
   "outputs": [],
   "source": [
    "holdout = pd.read_csv('df_holdout_scholarjet.csv').drop('Unnamed: 0',axis=1)"
   ]
  },
  {
   "cell_type": "markdown",
   "metadata": {},
   "source": [
    "### Classification\n",
    "\n",
    "Helper functions"
   ]
  },
  {
   "cell_type": "markdown",
   "metadata": {},
   "source": [
    "**miss_handler**: Handle's missing data replaces maxnps,minnps,avgnps with mean i.e 9 and rest with zeroes.<br>\n",
    "**label_encoder**: Labels categorical data<br>\n",
    "**drop_corr**: drops highly correlated variables with a threshold of 0.9 <br>\n",
    "**classification**: loades the saved models and performs predictions, returns probailities."
   ]
  },
  {
   "cell_type": "code",
   "execution_count": 32,
   "metadata": {},
   "outputs": [],
   "source": [
    "def miss_handler(df):\n",
    "    df_holdout = df.copy()\n",
    "    print(\"Imputing missing values\")\n",
    "    df_holdout['maxnps'] = df_holdout['maxnps'].fillna(9)\n",
    "    print(\"Imputed maxnps\")\n",
    "\n",
    "    df_holdout['minnps'] = df_holdout['minnps'].fillna(9)\n",
    "    print(\"Imputed minnps\")\n",
    "\n",
    "    df_holdout['avgnps'] = df_holdout['avgnps'].fillna(9)\n",
    "    print(\"Imputed avgnps\")\n",
    "    df_holdout.fillna(0,inplace=True)\n",
    "    print(\"Imputing remaining columns\")\n",
    "    return df_holdout\n",
    "\n",
    "def label_encoder(df):\n",
    "    df_labeled = df.copy()\n",
    "    print(\"labeling categorical columns\")\n",
    "    cat_cols = df_labeled.select_dtypes(include='object').columns\n",
    "    df_labeled[cat_cols] = df_labeled[cat_cols].apply(LabelEncoder().fit_transform)\n",
    "    return df_labeled\n",
    "\n",
    "\n",
    "def drop_corr(df_todrop):\n",
    "    df = df_todrop.copy()\n",
    "    to_drop = ['dayssincelastord','cuidshare','numstores','avgnps','maxnps','numvisittotal',\n",
    "               'numskusviewedone','numskusviewedthreeone','numskusviewedseventhree',\n",
    "               'numskusviewedthirtyseven','numskusviewedsixtythirty','numskusviewedyearsixty']\n",
    "    df = df.drop(to_drop,axis=1)\n",
    "    print(\"Dropped correlated columns\")\n",
    "    return df\n",
    "\n",
    "def classification(df_processed):\n",
    "    model_lgbm = pickle.load(open('lgbm_corr_auc0.725acc0.767.pkl', 'rb'))\n",
    "    model_xg = pickle.load(open('xg_corr_auc0.723acc0.765.pkl','rb'))\n",
    "    lgbm_proba = model_lgbm.predict_proba(df_processed.drop(['cuid'],axis=1))\n",
    "    xg_proba = model_xg.predict_proba(df_processed.drop(['cuid'],axis=1))\n",
    "    weighted_proba = (lgbm_proba*0.63+xg_proba*0.37)[:,1]\n",
    "    flat_proba = weighted_proba\n",
    "    return flat_proba\n",
    "#     for sublist in list(weighted_proba):\n",
    "#         for i in sublist:\n",
    "#             flat_proba.append(i)\n",
    "#     return pd.Series(flat_proba)"
   ]
  },
  {
   "cell_type": "code",
   "execution_count": 33,
   "metadata": {},
   "outputs": [
    {
     "name": "stdout",
     "output_type": "stream",
     "text": [
      "Imputing missing values\n",
      "Imputed maxnps\n",
      "Imputed minnps\n",
      "Imputed avgnps\n",
      "Imputing remaining columns\n",
      "Dropped correlated columns\n",
      "labeling categorical columns\n"
     ]
    }
   ],
   "source": [
    "df_processed = miss_handler(holdout)\n",
    "df_processed = drop_corr(df_processed)\n",
    "df_processed = label_encoder(df_processed)\n"
   ]
  },
  {
   "cell_type": "code",
   "execution_count": 34,
   "metadata": {},
   "outputs": [],
   "source": [
    "prdic_proba_holdout = classification(df_processed)"
   ]
  },
  {
   "cell_type": "code",
   "execution_count": 36,
   "metadata": {},
   "outputs": [],
   "source": [
    "holdout['convert_30_prob'] = prdic_proba_holdout\n",
    "holdout['convert_30'] = np.where(holdout['convert_30_prob']>0.5,1,0)"
   ]
  },
  {
   "cell_type": "code",
   "execution_count": 37,
   "metadata": {
    "scrolled": true
   },
   "outputs": [],
   "source": [
    "predicted_conv = holdout"
   ]
  },
  {
   "cell_type": "code",
   "execution_count": 38,
   "metadata": {},
   "outputs": [
    {
     "data": {
      "text/html": [
       "<div>\n",
       "<style scoped>\n",
       "    .dataframe tbody tr th:only-of-type {\n",
       "        vertical-align: middle;\n",
       "    }\n",
       "\n",
       "    .dataframe tbody tr th {\n",
       "        vertical-align: top;\n",
       "    }\n",
       "\n",
       "    .dataframe thead th {\n",
       "        text-align: right;\n",
       "    }\n",
       "</style>\n",
       "<table border=\"1\" class=\"dataframe\">\n",
       "  <thead>\n",
       "    <tr style=\"text-align: right;\">\n",
       "      <th></th>\n",
       "      <th>cuid</th>\n",
       "      <th>roll_up</th>\n",
       "      <th>currentstatus</th>\n",
       "      <th>companytypegroup</th>\n",
       "      <th>team</th>\n",
       "      <th>customersource</th>\n",
       "      <th>accrole</th>\n",
       "      <th>num_employees</th>\n",
       "      <th>num_purchases_year</th>\n",
       "      <th>cost_purchases_year</th>\n",
       "      <th>...</th>\n",
       "      <th>percemailclickedthreeone</th>\n",
       "      <th>percemailclickedseventhree</th>\n",
       "      <th>percemailclickedthirtyseven</th>\n",
       "      <th>percemailclickedsixtythirty</th>\n",
       "      <th>percemailclickedyearsixty</th>\n",
       "      <th>currentapplicability</th>\n",
       "      <th>numemaillist</th>\n",
       "      <th>dayssinceenrollment</th>\n",
       "      <th>convert_30_prob</th>\n",
       "      <th>convert_30</th>\n",
       "    </tr>\n",
       "  </thead>\n",
       "  <tbody>\n",
       "    <tr>\n",
       "      <th>0</th>\n",
       "      <td>16838</td>\n",
       "      <td>Onboarding</td>\n",
       "      <td>Enrolled</td>\n",
       "      <td>Business</td>\n",
       "      <td>US</td>\n",
       "      <td>Internal Application</td>\n",
       "      <td>None</td>\n",
       "      <td>1</td>\n",
       "      <td>1to2</td>\n",
       "      <td>lessthan1</td>\n",
       "      <td>...</td>\n",
       "      <td>0.0</td>\n",
       "      <td>0.0</td>\n",
       "      <td>0.021739</td>\n",
       "      <td>0.012821</td>\n",
       "      <td>0.032258</td>\n",
       "      <td>5.0</td>\n",
       "      <td>2.0</td>\n",
       "      <td>86</td>\n",
       "      <td>0.425504</td>\n",
       "      <td>0</td>\n",
       "    </tr>\n",
       "    <tr>\n",
       "      <th>1</th>\n",
       "      <td>532175</td>\n",
       "      <td>Onboarding</td>\n",
       "      <td>Enrolled</td>\n",
       "      <td>Business</td>\n",
       "      <td>US</td>\n",
       "      <td>Search - Paid</td>\n",
       "      <td>None</td>\n",
       "      <td>6to10</td>\n",
       "      <td>None</td>\n",
       "      <td>None</td>\n",
       "      <td>...</td>\n",
       "      <td>0.0</td>\n",
       "      <td>0.0</td>\n",
       "      <td>0.000000</td>\n",
       "      <td>0.000000</td>\n",
       "      <td>0.000000</td>\n",
       "      <td>NaN</td>\n",
       "      <td>NaN</td>\n",
       "      <td>3</td>\n",
       "      <td>0.374038</td>\n",
       "      <td>0</td>\n",
       "    </tr>\n",
       "    <tr>\n",
       "      <th>2</th>\n",
       "      <td>532176</td>\n",
       "      <td>Onboarding</td>\n",
       "      <td>Enrolled</td>\n",
       "      <td>Business</td>\n",
       "      <td>US</td>\n",
       "      <td>Internal Application</td>\n",
       "      <td>None</td>\n",
       "      <td>11to50</td>\n",
       "      <td>3to5</td>\n",
       "      <td>1to5</td>\n",
       "      <td>...</td>\n",
       "      <td>0.0</td>\n",
       "      <td>0.0</td>\n",
       "      <td>0.000000</td>\n",
       "      <td>0.000000</td>\n",
       "      <td>0.015238</td>\n",
       "      <td>8.0</td>\n",
       "      <td>4.0</td>\n",
       "      <td>13</td>\n",
       "      <td>0.804787</td>\n",
       "      <td>1</td>\n",
       "    </tr>\n",
       "    <tr>\n",
       "      <th>3</th>\n",
       "      <td>532187</td>\n",
       "      <td>Onboarding</td>\n",
       "      <td>Enrolled</td>\n",
       "      <td>Business</td>\n",
       "      <td>US</td>\n",
       "      <td>Internal Application</td>\n",
       "      <td>Primary</td>\n",
       "      <td>None</td>\n",
       "      <td>None</td>\n",
       "      <td>None</td>\n",
       "      <td>...</td>\n",
       "      <td>0.0</td>\n",
       "      <td>0.5</td>\n",
       "      <td>0.272727</td>\n",
       "      <td>0.250000</td>\n",
       "      <td>0.000000</td>\n",
       "      <td>NaN</td>\n",
       "      <td>NaN</td>\n",
       "      <td>10</td>\n",
       "      <td>0.751945</td>\n",
       "      <td>1</td>\n",
       "    </tr>\n",
       "    <tr>\n",
       "      <th>4</th>\n",
       "      <td>16938</td>\n",
       "      <td>Onboarding</td>\n",
       "      <td>Enrolled</td>\n",
       "      <td>Trade</td>\n",
       "      <td>US</td>\n",
       "      <td>Internal Customer Scrape</td>\n",
       "      <td>Primary</td>\n",
       "      <td>None</td>\n",
       "      <td>None</td>\n",
       "      <td>None</td>\n",
       "      <td>...</td>\n",
       "      <td>0.0</td>\n",
       "      <td>0.0</td>\n",
       "      <td>0.000000</td>\n",
       "      <td>0.043478</td>\n",
       "      <td>0.016461</td>\n",
       "      <td>5.0</td>\n",
       "      <td>2.0</td>\n",
       "      <td>42</td>\n",
       "      <td>0.557763</td>\n",
       "      <td>1</td>\n",
       "    </tr>\n",
       "  </tbody>\n",
       "</table>\n",
       "<p>5 rows × 183 columns</p>\n",
       "</div>"
      ],
      "text/plain": [
       "     cuid     roll_up currentstatus companytypegroup team  \\\n",
       "0   16838  Onboarding      Enrolled         Business   US   \n",
       "1  532175  Onboarding      Enrolled         Business   US   \n",
       "2  532176  Onboarding      Enrolled         Business   US   \n",
       "3  532187  Onboarding      Enrolled         Business   US   \n",
       "4   16938  Onboarding      Enrolled            Trade   US   \n",
       "\n",
       "             customersource  accrole num_employees num_purchases_year  \\\n",
       "0      Internal Application     None             1               1to2   \n",
       "1             Search - Paid     None         6to10               None   \n",
       "2      Internal Application     None        11to50               3to5   \n",
       "3      Internal Application  Primary          None               None   \n",
       "4  Internal Customer Scrape  Primary          None               None   \n",
       "\n",
       "  cost_purchases_year     ...     percemailclickedthreeone  \\\n",
       "0           lessthan1     ...                          0.0   \n",
       "1                None     ...                          0.0   \n",
       "2                1to5     ...                          0.0   \n",
       "3                None     ...                          0.0   \n",
       "4                None     ...                          0.0   \n",
       "\n",
       "   percemailclickedseventhree  percemailclickedthirtyseven  \\\n",
       "0                         0.0                     0.021739   \n",
       "1                         0.0                     0.000000   \n",
       "2                         0.0                     0.000000   \n",
       "3                         0.5                     0.272727   \n",
       "4                         0.0                     0.000000   \n",
       "\n",
       "   percemailclickedsixtythirty  percemailclickedyearsixty  \\\n",
       "0                     0.012821                   0.032258   \n",
       "1                     0.000000                   0.000000   \n",
       "2                     0.000000                   0.015238   \n",
       "3                     0.250000                   0.000000   \n",
       "4                     0.043478                   0.016461   \n",
       "\n",
       "   currentapplicability  numemaillist  dayssinceenrollment  convert_30_prob  \\\n",
       "0                   5.0           2.0                   86         0.425504   \n",
       "1                   NaN           NaN                    3         0.374038   \n",
       "2                   8.0           4.0                   13         0.804787   \n",
       "3                   NaN           NaN                   10         0.751945   \n",
       "4                   5.0           2.0                   42         0.557763   \n",
       "\n",
       "   convert_30  \n",
       "0           0  \n",
       "1           0  \n",
       "2           1  \n",
       "3           1  \n",
       "4           1  \n",
       "\n",
       "[5 rows x 183 columns]"
      ]
     },
     "execution_count": 38,
     "metadata": {},
     "output_type": "execute_result"
    }
   ],
   "source": [
    "predicted_conv.head()"
   ]
  },
  {
   "cell_type": "markdown",
   "metadata": {},
   "source": [
    "### Regression"
   ]
  },
  {
   "cell_type": "markdown",
   "metadata": {},
   "source": [
    "**Loading the saved pickled model**"
   ]
  },
  {
   "cell_type": "code",
   "execution_count": 40,
   "metadata": {},
   "outputs": [
    {
     "name": "stderr",
     "output_type": "stream",
     "text": [
      "/home/ec2-user/anaconda3/envs/python3/lib/python3.6/site-packages/sklearn/externals/joblib/__init__.py:15: DeprecationWarning: sklearn.externals.joblib is deprecated in 0.21 and will be removed in 0.23. Please import this functionality directly from joblib, which can be installed with: pip install joblib. If this warning is raised when loading pickled models, you may need to re-serialize those models with scikit-learn 0.21+.\n",
      "  warnings.warn(msg, category=DeprecationWarning)\n"
     ]
    }
   ],
   "source": [
    "loaded_reg = pickle.load(open('reg_stacked.pkl', 'rb'))"
   ]
  },
  {
   "cell_type": "code",
   "execution_count": 41,
   "metadata": {},
   "outputs": [],
   "source": [
    "holdout = pd.read_csv('df_holdout_scholarjet.csv').drop('Unnamed: 0',axis=1)"
   ]
  },
  {
   "cell_type": "markdown",
   "metadata": {},
   "source": [
    "**Preprocessing**"
   ]
  },
  {
   "cell_type": "code",
   "execution_count": 42,
   "metadata": {
    "scrolled": true
   },
   "outputs": [
    {
     "name": "stdout",
     "output_type": "stream",
     "text": [
      "Imputing missing values\n",
      "Imputed maxnps\n",
      "Imputed minnps\n",
      "Imputed avgnps\n",
      "Imputing remaining columns\n",
      "labeling categorical columns\n"
     ]
    }
   ],
   "source": [
    "df_processed = miss_handler(holdout) #handling missing values\n",
    "df_processed = label_encoder(df_processed) # label encoding\n"
   ]
  },
  {
   "cell_type": "markdown",
   "metadata": {},
   "source": [
    "**Predictions**"
   ]
  },
  {
   "cell_type": "code",
   "execution_count": 44,
   "metadata": {},
   "outputs": [],
   "source": [
    "preds_e = loaded_reg.predict(df_processed.drop(['cuid'],axis=1))\n",
    "preds_e = np.expm1(preds_e)"
   ]
  },
  {
   "cell_type": "code",
   "execution_count": 45,
   "metadata": {},
   "outputs": [],
   "source": [
    "cuid = np.array(holdout.cuid)\n",
    "conv_predicted = np.array(predicted_conv.convert_30)\n",
    "rev_predicted = np.array(preds_e)\n",
    "pred_convert_30 = np.array(predicted_conv.convert_30_prob)"
   ]
  },
  {
   "cell_type": "code",
   "execution_count": 46,
   "metadata": {
    "scrolled": true
   },
   "outputs": [
    {
     "data": {
      "text/html": [
       "<div>\n",
       "<style scoped>\n",
       "    .dataframe tbody tr th:only-of-type {\n",
       "        vertical-align: middle;\n",
       "    }\n",
       "\n",
       "    .dataframe tbody tr th {\n",
       "        vertical-align: top;\n",
       "    }\n",
       "\n",
       "    .dataframe thead th {\n",
       "        text-align: right;\n",
       "    }\n",
       "</style>\n",
       "<table border=\"1\" class=\"dataframe\">\n",
       "  <thead>\n",
       "    <tr style=\"text-align: right;\">\n",
       "      <th></th>\n",
       "      <th>conv_predicted</th>\n",
       "      <th>cuid</th>\n",
       "      <th>pred_convert_30</th>\n",
       "      <th>rev_predicted</th>\n",
       "    </tr>\n",
       "  </thead>\n",
       "  <tbody>\n",
       "    <tr>\n",
       "      <th>0</th>\n",
       "      <td>0</td>\n",
       "      <td>16838</td>\n",
       "      <td>0.425504</td>\n",
       "      <td>160.654454</td>\n",
       "    </tr>\n",
       "    <tr>\n",
       "      <th>1</th>\n",
       "      <td>0</td>\n",
       "      <td>532175</td>\n",
       "      <td>0.374038</td>\n",
       "      <td>596.881632</td>\n",
       "    </tr>\n",
       "    <tr>\n",
       "      <th>2</th>\n",
       "      <td>1</td>\n",
       "      <td>532176</td>\n",
       "      <td>0.804787</td>\n",
       "      <td>320.853348</td>\n",
       "    </tr>\n",
       "    <tr>\n",
       "      <th>3</th>\n",
       "      <td>1</td>\n",
       "      <td>532187</td>\n",
       "      <td>0.751945</td>\n",
       "      <td>841.311249</td>\n",
       "    </tr>\n",
       "    <tr>\n",
       "      <th>4</th>\n",
       "      <td>1</td>\n",
       "      <td>16938</td>\n",
       "      <td>0.557763</td>\n",
       "      <td>376.818398</td>\n",
       "    </tr>\n",
       "  </tbody>\n",
       "</table>\n",
       "</div>"
      ],
      "text/plain": [
       "   conv_predicted    cuid  pred_convert_30  rev_predicted\n",
       "0               0   16838         0.425504     160.654454\n",
       "1               0  532175         0.374038     596.881632\n",
       "2               1  532176         0.804787     320.853348\n",
       "3               1  532187         0.751945     841.311249\n",
       "4               1   16938         0.557763     376.818398"
      ]
     },
     "execution_count": 46,
     "metadata": {},
     "output_type": "execute_result"
    }
   ],
   "source": [
    "submission_beta = pd.DataFrame({'cuid':cuid, 'conv_predicted':conv_predicted,\n",
    "                            'rev_predicted':rev_predicted,'pred_convert_30':pred_convert_30})\n",
    "\n",
    "submission_beta.head()\n"
   ]
  },
  {
   "cell_type": "markdown",
   "metadata": {},
   "source": [
    "**Modifying the predictions w.r.t classification**"
   ]
  },
  {
   "cell_type": "code",
   "execution_count": 47,
   "metadata": {},
   "outputs": [],
   "source": [
    "conditions = [\n",
    "    submission_beta['conv_predicted'] ==0,\n",
    "    submission_beta['conv_predicted'] !=0\n",
    "]\n",
    "\n",
    "\n",
    "outputs = [0,np.NAN]\n",
    "\n",
    "res = np.select(conditions, outputs, 'Other')\n",
    "submission_beta['adjusted_rev'] = res\n",
    "\n",
    "submission_beta=submission_beta.replace('nan',np.NaN)\n",
    "submission_beta.isnull().sum()\n",
    "\n",
    "submission_beta['pred_revenue_30'] = submission_beta['adjusted_rev'].fillna(submission_beta['rev_predicted'])"
   ]
  },
  {
   "cell_type": "code",
   "execution_count": 48,
   "metadata": {},
   "outputs": [],
   "source": [
    "submission = submission_beta.drop(['conv_predicted','rev_predicted','adjusted_rev'],axis=1)"
   ]
  },
  {
   "cell_type": "code",
   "execution_count": 49,
   "metadata": {},
   "outputs": [
    {
     "data": {
      "text/html": [
       "<div>\n",
       "<style scoped>\n",
       "    .dataframe tbody tr th:only-of-type {\n",
       "        vertical-align: middle;\n",
       "    }\n",
       "\n",
       "    .dataframe tbody tr th {\n",
       "        vertical-align: top;\n",
       "    }\n",
       "\n",
       "    .dataframe thead th {\n",
       "        text-align: right;\n",
       "    }\n",
       "</style>\n",
       "<table border=\"1\" class=\"dataframe\">\n",
       "  <thead>\n",
       "    <tr style=\"text-align: right;\">\n",
       "      <th></th>\n",
       "      <th>cuid</th>\n",
       "      <th>pred_convert_30</th>\n",
       "      <th>pred_revenue_30</th>\n",
       "    </tr>\n",
       "  </thead>\n",
       "  <tbody>\n",
       "    <tr>\n",
       "      <th>0</th>\n",
       "      <td>16838</td>\n",
       "      <td>0.425504</td>\n",
       "      <td>0</td>\n",
       "    </tr>\n",
       "    <tr>\n",
       "      <th>1</th>\n",
       "      <td>532175</td>\n",
       "      <td>0.374038</td>\n",
       "      <td>0</td>\n",
       "    </tr>\n",
       "    <tr>\n",
       "      <th>2</th>\n",
       "      <td>532176</td>\n",
       "      <td>0.804787</td>\n",
       "      <td>320.853</td>\n",
       "    </tr>\n",
       "    <tr>\n",
       "      <th>3</th>\n",
       "      <td>532187</td>\n",
       "      <td>0.751945</td>\n",
       "      <td>841.311</td>\n",
       "    </tr>\n",
       "    <tr>\n",
       "      <th>4</th>\n",
       "      <td>16938</td>\n",
       "      <td>0.557763</td>\n",
       "      <td>376.818</td>\n",
       "    </tr>\n",
       "  </tbody>\n",
       "</table>\n",
       "</div>"
      ],
      "text/plain": [
       "     cuid  pred_convert_30 pred_revenue_30\n",
       "0   16838         0.425504               0\n",
       "1  532175         0.374038               0\n",
       "2  532176         0.804787         320.853\n",
       "3  532187         0.751945         841.311\n",
       "4   16938         0.557763         376.818"
      ]
     },
     "execution_count": 49,
     "metadata": {},
     "output_type": "execute_result"
    }
   ],
   "source": [
    "submission.head()"
   ]
  },
  {
   "cell_type": "code",
   "execution_count": 51,
   "metadata": {},
   "outputs": [],
   "source": [
    "submission.to_csv('submission.csv')"
   ]
  }
 ],
 "metadata": {
  "kernelspec": {
   "display_name": "conda_python3",
   "language": "python",
   "name": "conda_python3"
  },
  "language_info": {
   "codemirror_mode": {
    "name": "ipython",
    "version": 3
   },
   "file_extension": ".py",
   "mimetype": "text/x-python",
   "name": "python",
   "nbconvert_exporter": "python",
   "pygments_lexer": "ipython3",
   "version": "3.6.5"
  }
 },
 "nbformat": 4,
 "nbformat_minor": 2
}
