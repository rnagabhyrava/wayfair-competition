{
 "cells": [
  {
   "cell_type": "markdown",
   "metadata": {},
   "source": [
    "## Regression"
   ]
  },
  {
   "cell_type": "code",
   "execution_count": 1,
   "metadata": {},
   "outputs": [
    {
     "name": "stderr",
     "output_type": "stream",
     "text": [
      "/home/ec2-user/anaconda3/envs/python3/lib/python3.6/site-packages/sklearn/externals/joblib/__init__.py:15: DeprecationWarning: sklearn.externals.joblib is deprecated in 0.21 and will be removed in 0.23. Please import this functionality directly from joblib, which can be installed with: pip install joblib. If this warning is raised when loading pickled models, you may need to re-serialize those models with scikit-learn 0.21+.\n",
      "  warnings.warn(msg, category=DeprecationWarning)\n"
     ]
    }
   ],
   "source": [
    "#loading_required_packages\n",
    "\n",
    "import numpy as np\n",
    "import pandas as pd\n",
    "from sklearn.preprocessing import LabelEncoder\n",
    "from xgboost import XGBRegressor\n",
    "from sklearn.model_selection import train_test_split\n",
    "from sklearn.metrics import mean_absolute_error, mean_squared_error\n",
    "from lightgbm import LGBMRegressor\n",
    "from sklearn.pipeline import Pipeline\n",
    "from sklearn.linear_model import Lasso,LassoLarsCV\n",
    "import pickle\n",
    "from tpot.builtins import StackingEstimator\n",
    "from sklearn.pipeline import make_pipeline\n",
    "import matplotlib.pyplot as plt"
   ]
  },
  {
   "cell_type": "code",
   "execution_count": 3,
   "metadata": {},
   "outputs": [],
   "source": [
    "#importing data\n",
    "raw_df = pd.read_csv('mean_zero_imputed.csv')\n",
    "\n",
    "#Label encoding categorical features\n",
    "cat_cols = raw_df.select_dtypes(include='object').columns\n",
    "cat_indices = []\n",
    "for col in cat_cols:\n",
    "    cat_indices.append(raw_df.columns.get_loc(col))\n",
    "    \n",
    "\n",
    "    \n",
    "#Label encoding cat columns\n",
    "raw_labeled = raw_df\n",
    "raw_labeled[cat_cols] = raw_df[cat_cols].apply(LabelEncoder().fit_transform)"
   ]
  },
  {
   "cell_type": "markdown",
   "metadata": {},
   "source": [
    "**Helper function to give the metrics**"
   ]
  },
  {
   "cell_type": "code",
   "execution_count": 4,
   "metadata": {},
   "outputs": [],
   "source": [
    "#helper method\n",
    "def reg_metrics(y_test,preds):\n",
    "    rmse = np.sqrt(mean_squared_error(y_test,preds))\n",
    "    print('RMSE:',rmse)\n",
    "    return rmse"
   ]
  },
  {
   "cell_type": "markdown",
   "metadata": {},
   "source": [
    "### Test and train data"
   ]
  },
  {
   "cell_type": "code",
   "execution_count": 5,
   "metadata": {},
   "outputs": [],
   "source": [
    "with open('test_index_list.pkl', 'rb') as f:\n",
    "    test_indices = pickle.load(f)\n",
    "\n",
    "test_df = raw_df.iloc[test_indices]\n",
    "X_test_df = test_df.drop(['cuid','convert_30','revenue_30'],axis=1)\n",
    "y_test_df_con = test_df.convert_30\n",
    "y_test_df_rev = test_df.revenue_30"
   ]
  },
  {
   "cell_type": "code",
   "execution_count": 6,
   "metadata": {},
   "outputs": [],
   "source": [
    "raw_index = list(raw_df.index)\n",
    "for x in test_indices:\n",
    "    raw_index.remove(x)\n",
    "    \n",
    "train_df = raw_df.iloc[raw_index]\n",
    "X_train_df = train_df.drop(['cuid','convert_30','revenue_30'],axis=1)\n",
    "y_train_df_con = train_df.convert_30\n",
    "y_train_df_rev = train_df.revenue_30"
   ]
  },
  {
   "cell_type": "markdown",
   "metadata": {},
   "source": [
    "### Filtering data where revenue is not zero"
   ]
  },
  {
   "cell_type": "code",
   "execution_count": 7,
   "metadata": {},
   "outputs": [],
   "source": [
    "train_rev = train_df[train_df.revenue_30!=0.0]\n",
    "X_train_rev = train_rev.drop(['cuid','convert_30','revenue_30'],axis=1)\n",
    "y_train_rev = train_rev.revenue_30\n",
    "\n",
    "test_rev = test_df[test_df.revenue_30!=0.0]\n",
    "X_test_rev = test_rev.drop(['cuid','convert_30','revenue_30'],axis=1)\n",
    "y_test_rev = test_rev.revenue_30"
   ]
  },
  {
   "cell_type": "code",
   "execution_count": 8,
   "metadata": {},
   "outputs": [],
   "source": [
    "#log1p of target\n",
    "y_train_rev_log = np.log1p(y_train_rev)"
   ]
  },
  {
   "cell_type": "markdown",
   "metadata": {},
   "source": [
    "**Stacking Estimator with LassoLarsCv and LGBMRegressor**"
   ]
  },
  {
   "cell_type": "code",
   "execution_count": 9,
   "metadata": {},
   "outputs": [
    {
     "name": "stderr",
     "output_type": "stream",
     "text": [
      "/home/ec2-user/anaconda3/envs/python3/lib/python3.6/site-packages/sklearn/model_selection/_split.py:1978: FutureWarning: The default value of cv will change from 3 to 5 in version 0.22. Specify it explicitly to silence this warning.\n",
      "  warnings.warn(CV_WARNING, FutureWarning)\n"
     ]
    },
    {
     "name": "stdout",
     "output_type": "stream",
     "text": [
      "RMSE: 1062.460007194682\n"
     ]
    },
    {
     "data": {
      "text/plain": [
       "1062.460007194682"
      ]
     },
     "execution_count": 9,
     "metadata": {},
     "output_type": "execute_result"
    }
   ],
   "source": [
    "reg_pipe = make_pipeline(\n",
    "    StackingEstimator(estimator=LassoLarsCV(normalize=False)),\n",
    "    LGBMRegressor())\n",
    "\n",
    "reg_pipe.fit(X_train_rev,y_train_rev_log)\n",
    "preds_e = reg_pipe.predict(X_test_rev)\n",
    "preds_e = np.expm1(preds_e)\n",
    "reg_metrics(y_test_rev,preds_e)"
   ]
  },
  {
   "cell_type": "code",
   "execution_count": 10,
   "metadata": {},
   "outputs": [],
   "source": [
    "filename = 'reg_stacked.pkl'\n",
    "pickle.dump(reg_pipe, open(filename, 'wb'))\n",
    "\n",
    "loaded_reg = pickle.load(open(filename, 'rb'))"
   ]
  },
  {
   "cell_type": "code",
   "execution_count": 11,
   "metadata": {
    "scrolled": true
   },
   "outputs": [
    {
     "name": "stdout",
     "output_type": "stream",
     "text": [
      "RMSE: 1062.460007194682\n"
     ]
    },
    {
     "data": {
      "text/plain": [
       "1062.460007194682"
      ]
     },
     "execution_count": 11,
     "metadata": {},
     "output_type": "execute_result"
    }
   ],
   "source": [
    "preds_e = loaded_reg.predict(X_test_rev)\n",
    "preds_e = np.expm1(preds_e)\n",
    "reg_metrics(y_test_rev,preds_e)"
   ]
  },
  {
   "cell_type": "markdown",
   "metadata": {},
   "source": [
    "**Model**"
   ]
  },
  {
   "cell_type": "code",
   "execution_count": 12,
   "metadata": {},
   "outputs": [
    {
     "data": {
      "text/plain": [
       "<bound method Pipeline.get_params of Pipeline(memory=None,\n",
       "         steps=[('stackingestimator',\n",
       "                 StackingEstimator(estimator=LassoLarsCV(copy_X=True, cv='warn',\n",
       "                                                         eps=2.220446049250313e-16,\n",
       "                                                         fit_intercept=True,\n",
       "                                                         max_iter=500,\n",
       "                                                         max_n_alphas=1000,\n",
       "                                                         n_jobs=None,\n",
       "                                                         normalize=False,\n",
       "                                                         positive=False,\n",
       "                                                         precompute='auto',\n",
       "                                                         verbose=False))),\n",
       "                ('lgbmregressor',\n",
       "                 LGBMRegressor(boosting_type='gbdt', class_weight=None,\n",
       "                               colsample_bytree=1.0, importance_type='split',\n",
       "                               learning_rate=0.1, max_depth=-1,\n",
       "                               min_child_samples=20, min_child_weight=0.001,\n",
       "                               min_split_gain=0.0, n_estimators=100, n_jobs=-1,\n",
       "                               num_leaves=31, objective=None, random_state=None,\n",
       "                               reg_alpha=0.0, reg_lambda=0.0, silent=True,\n",
       "                               subsample=1.0, subsample_for_bin=200000,\n",
       "                               subsample_freq=0))],\n",
       "         verbose=False)>"
      ]
     },
     "execution_count": 12,
     "metadata": {},
     "output_type": "execute_result"
    }
   ],
   "source": [
    "(reg_pipe.get_params)"
   ]
  },
  {
   "cell_type": "markdown",
   "metadata": {},
   "source": [
    "### Predictions on whole test set instead of just for +ve revenue"
   ]
  },
  {
   "cell_type": "code",
   "execution_count": 13,
   "metadata": {},
   "outputs": [
    {
     "name": "stdout",
     "output_type": "stream",
     "text": [
      "RMSE: 523.2583969151068\n"
     ]
    },
    {
     "data": {
      "text/plain": [
       "523.2583969151068"
      ]
     },
     "execution_count": 13,
     "metadata": {},
     "output_type": "execute_result"
    }
   ],
   "source": [
    "pred_on_whole = reg_pipe.predict(X_test_df)\n",
    "pred_on_whole = np.expm1(pred_on_whole)\n",
    "\n",
    "\n",
    "reg_metrics(y_test_df_rev,pred_on_whole)"
   ]
  },
  {
   "cell_type": "markdown",
   "metadata": {},
   "source": [
    "### Further reducing the rmse"
   ]
  },
  {
   "cell_type": "markdown",
   "metadata": {},
   "source": [
    "Using the classifier to first predict the classes and then doing the predictions only where convert_30=1"
   ]
  },
  {
   "cell_type": "code",
   "execution_count": 17,
   "metadata": {},
   "outputs": [],
   "source": [
    "#helper function\n",
    "from sklearn.metrics import roc_auc_score,accuracy_score,classification_report,confusion_matrix,roc_curve\n",
    "\n",
    "def report(y_true,y_preds):\n",
    "    print(classification_report(y_true,y_preds))\n",
    "    print(\"*\"*10+\"Confusion Matrix\"+\"*\"*10+'\\n',confusion_matrix(y_true,y_preds))\n",
    "    print(\"AUC_ROC:\",roc_auc_score(y_true,y_preds))\n",
    "    print(\"accuracy:\",accuracy_score(y_true,y_preds))"
   ]
  },
  {
   "cell_type": "code",
   "execution_count": 18,
   "metadata": {},
   "outputs": [],
   "source": [
    "to_drop = ['dayssincelastord',\n",
    " 'cuidshare',\n",
    " 'numstores',\n",
    " 'avgnps',\n",
    " 'maxnps',\n",
    " 'numvisittotal',\n",
    " 'numskusviewedone',\n",
    " 'numskusviewedthreeone',\n",
    " 'numskusviewedseventhree',\n",
    " 'numskusviewedthirtyseven',\n",
    " 'numskusviewedsixtythirty',\n",
    " 'numskusviewedyearsixty']"
   ]
  },
  {
   "cell_type": "markdown",
   "metadata": {},
   "source": [
    "Loading the saved models and predicting class for the test set"
   ]
  },
  {
   "cell_type": "code",
   "execution_count": 27,
   "metadata": {},
   "outputs": [],
   "source": [
    "filename = 'xg_corr_auc0.723acc0.765.pkl'\n",
    "loaded_xgbc = pickle.load(open(filename, 'rb'))\n",
    "preds_xg_proba = loaded_xgbc.predict_proba(X_test_df.drop(to_drop,axis=1))\n",
    "preds_xg = np.where(preds_xg_proba[:,1]>0.5,1,0)\n",
    "\n",
    "filename = 'lgbm_corr_auc0.725acc0.767.pkl'\n",
    "lgbmc_model = pickle.load(open(filename, 'rb'))\n",
    "preds_lgbm_proba = lgbmc_model.predict_proba(X_test_df.drop(to_drop,axis=1))\n",
    "preds_lgbm = np.where(preds_lgbm_proba[:,1]>0.5,1,0)\n",
    "\n",
    "\n",
    "\n",
    "preds3_proba = ((preds_lgbm_proba*0.63+preds_xg_proba*0.37)[:,1])\n",
    "\n",
    "preds3 = np.where(preds3_proba>0.5,1,0)"
   ]
  },
  {
   "cell_type": "markdown",
   "metadata": {},
   "source": [
    "Creating a dataframe with predicted and converted classes, revenue"
   ]
  },
  {
   "cell_type": "code",
   "execution_count": 23,
   "metadata": {},
   "outputs": [],
   "source": [
    "conv_original = np.array(y_test_df_con)\n",
    "conv_predicted = np.array(preds3)\n",
    "rev_original = np.array(y_test_df_rev)\n",
    "revenue_predicted = np.array(pred_on_whole)"
   ]
  },
  {
   "cell_type": "code",
   "execution_count": 26,
   "metadata": {},
   "outputs": [
    {
     "name": "stdout",
     "output_type": "stream",
     "text": [
      "RMSE: 417.9475301321053\n"
     ]
    },
    {
     "data": {
      "text/plain": [
       "417.9475301321053"
      ]
     },
     "execution_count": 26,
     "metadata": {},
     "output_type": "execute_result"
    }
   ],
   "source": [
    "org_pred_df = pd.DataFrame({'conv_original':conv_original, 'conv_predicted':conv_predicted,\n",
    "                            'rev_original':rev_original,'revenue_predicted':revenue_predicted})\n",
    "\n",
    "conditions = [\n",
    "    org_pred_df['conv_predicted'] ==0,\n",
    "    org_pred_df['conv_predicted'] !=0\n",
    "]\n",
    "\n",
    "\n",
    "outputs = [0,np.NAN]\n",
    "\n",
    "res = np.select(conditions, outputs, 'Other')\n",
    "org_pred_df['adjusted_rev'] = res\n",
    "\n",
    "org_pred_df=org_pred_df.replace('nan',np.NaN)\n",
    "org_pred_df.isnull().sum()\n",
    "\n",
    "org_pred_df['adjusted_rev'] = org_pred_df['adjusted_rev'].fillna(org_pred_df['revenue_predicted'])\n",
    "\n",
    "reg_metrics(org_pred_df.rev_original,org_pred_df.adjusted_rev)\n"
   ]
  },
  {
   "cell_type": "markdown",
   "metadata": {},
   "source": [
    "### True vs predicted"
   ]
  },
  {
   "cell_type": "code",
   "execution_count": 46,
   "metadata": {
    "scrolled": true
   },
   "outputs": [
    {
     "data": {
      "text/plain": [
       "Text(0,0.5,'Predicted')"
      ]
     },
     "execution_count": 46,
     "metadata": {},
     "output_type": "execute_result"
    },
    {
     "data": {
      "image/png": "[encoded data removed]",
      "text/plain": [
       "<Figure size 432x288 with 2 Axes>"
      ]
     },
     "metadata": {},
     "output_type": "display_data"
    }
   ],
   "source": [
    "plt.subplot(1,2,1)\n",
    "plt.scatter(y_test_df_rev,pred_on_whole)\n",
    "plt.xlabel('True')\n",
    "plt.ylabel('Predicted')\n",
    "\n",
    "plt.subplot(1,2,2)\n",
    "plt.scatter(org_pred_df.rev_original,org_pred_df.adjusted_rev.astype(int))\n",
    "plt.xlabel('True')\n",
    "plt.ylabel('Predicted')"
   ]
  },
  {
   "cell_type": "markdown",
   "metadata": {},
   "source": [
    "* RMSE of 523.2583 was achieved by stacking LassoLarsCv and LGBMRegressor\n",
    "* RMSE was further reduced to 417.94 by replacing revenue with zero where predicted convert_30 is zero\n",
    "    * Model is good at predicting small and medium range values but when it comes to values greater than 1000 model fails to predict. Reason is that we don't have much data for extreme values.\n",
    "* Also most of the zeros were predicted wrongly because our classifier is not much accurate."
   ]
  }
 ],
 "metadata": {
  "kernelspec": {
   "display_name": "conda_python3",
   "language": "python",
   "name": "conda_python3"
  },
  "language_info": {
   "codemirror_mode": {
    "name": "ipython",
    "version": 3
   },
   "file_extension": ".py",
   "mimetype": "text/x-python",
   "name": "python",
   "nbconvert_exporter": "python",
   "pygments_lexer": "ipython3",
   "version": "3.6.5"
  }
 },
 "nbformat": 4,
 "nbformat_minor": 2
}
